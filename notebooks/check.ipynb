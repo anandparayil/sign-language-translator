{
 "cells": [
  {
   "cell_type": "code",
   "execution_count": 2,
   "id": "2526ab20-9364-4cb1-a9b2-f108f8e5f2da",
   "metadata": {},
   "outputs": [],
   "source": [
    "import pandas as pd"
   ]
  },
  {
   "cell_type": "code",
   "execution_count": 3,
   "id": "070b5045-9994-41d4-9f78-a538fd7caf99",
   "metadata": {},
   "outputs": [],
   "source": [
    "df = pd.read_csv(\"../dataset/combined_landmark_data.csv\")"
   ]
  },
  {
   "cell_type": "code",
   "execution_count": 4,
   "id": "e742376f-b5f6-4861-82e5-2fc2c8a07ade",
   "metadata": {},
   "outputs": [],
   "source": [
    "# Remove empty or unwanted labels\n",
    "df = df[df['label'].str.strip().astype(bool)]  # Removes empty strings\n",
    "df = df[df['label'].str.len() == 1]  # Keeps only single-letter labels (A–Z)"
   ]
  },
  {
   "cell_type": "code",
   "execution_count": 5,
   "id": "4f94ba61-6bed-4370-bd10-84c362e0b8ac",
   "metadata": {},
   "outputs": [
    {
     "name": "stdout",
     "output_type": "stream",
     "text": [
      "label\n",
      "C    576\n",
      "G    574\n",
      "R    572\n",
      "K    572\n",
      "S    571\n",
      "H    567\n",
      "T    566\n",
      "O    563\n",
      "F    557\n",
      "Q    556\n",
      "P    556\n",
      "A    556\n",
      "D    554\n",
      "I    553\n",
      "Y    534\n",
      "U    530\n",
      "V    530\n",
      "B    524\n",
      "E    523\n",
      "X    520\n",
      "J    518\n",
      "L    499\n",
      "W    493\n",
      "M    404\n",
      "N    330\n",
      "Z    297\n",
      "Name: count, dtype: int64\n"
     ]
    }
   ],
   "source": [
    "# Optional: show class counts\n",
    "print(df['label'].value_counts())"
   ]
  },
  {
   "cell_type": "code",
   "execution_count": null,
   "id": "39a42ddc-9fbf-489d-9b18-5341d436fa94",
   "metadata": {},
   "outputs": [],
   "source": []
  }
 ],
 "metadata": {
  "kernelspec": {
   "display_name": "Python (venv310)",
   "language": "python",
   "name": "venv310"
  },
  "language_info": {
   "codemirror_mode": {
    "name": "ipython",
    "version": 3
   },
   "file_extension": ".py",
   "mimetype": "text/x-python",
   "name": "python",
   "nbconvert_exporter": "python",
   "pygments_lexer": "ipython3",
   "version": "3.10.9"
  }
 },
 "nbformat": 4,
 "nbformat_minor": 5
}
