{
 "cells": [
  {
   "cell_type": "code",
   "execution_count": 1,
   "id": "7caec24b-cfe1-469a-9e76-a3c645f0c2a2",
   "metadata": {},
   "outputs": [],
   "source": [
    "import os\n",
    "import cv2\n",
    "import mediapipe as mp\n",
    "import pandas as pd\n",
    "from tqdm import tqdm"
   ]
  },
  {
   "cell_type": "code",
   "execution_count": 2,
   "id": "6d4c846c-1548-4152-a2b9-189193872f48",
   "metadata": {},
   "outputs": [],
   "source": [
    "# --- MediaPipe setup ---\n",
    "mp_hands = mp.solutions.hands\n",
    "hands = mp_hands.Hands(static_image_mode=True, max_num_hands=1)"
   ]
  },
  {
   "cell_type": "code",
   "execution_count": 3,
   "id": "6767eb5f-98ca-4463-b03f-5cb49b033a03",
   "metadata": {},
   "outputs": [],
   "source": [
    "# --- Normalize landmarks relative to the wrist (landmark 0) ---\n",
    "def normalize_landmarks(landmarks):\n",
    "    origin_x = landmarks[0].x\n",
    "    origin_y = landmarks[0].y\n",
    "    origin_z = landmarks[0].z\n",
    "\n",
    "    normalized = []\n",
    "    for lm in landmarks:\n",
    "        normalized.extend([\n",
    "            lm.x - origin_x,\n",
    "            lm.y - origin_y,\n",
    "            lm.z - origin_z\n",
    "        ])\n",
    "    return normalized"
   ]
  },
  {
   "cell_type": "code",
   "execution_count": 4,
   "id": "ad18e92d-3bb1-499a-88d4-b9c69e10bc18",
   "metadata": {},
   "outputs": [],
   "source": [
    "# --- Extract and normalize from image ---\n",
    "def extract_landmarks(image_path):\n",
    "    image = cv2.imread(image_path)\n",
    "    if image is None:\n",
    "        return None\n",
    "\n",
    "    image_rgb = cv2.cvtColor(image, cv2.COLOR_BGR2RGB)\n",
    "    results = hands.process(image_rgb)\n",
    "\n",
    "    if results.multi_hand_landmarks:\n",
    "        landmarks = results.multi_hand_landmarks[0].landmark\n",
    "        return normalize_landmarks(landmarks)  # 👈 normalize here\n",
    "    else:\n",
    "        return None"
   ]
  },
  {
   "cell_type": "code",
   "execution_count": 5,
   "id": "c6c293e9-77f7-4689-b7b6-2f30f2391da5",
   "metadata": {},
   "outputs": [
    {
     "name": "stderr",
     "output_type": "stream",
     "text": [
      "100%|██████████████████████████████████████████████████████████████████████████████████| 26/26 [16:40<00:00, 38.47s/it]\n"
     ]
    }
   ],
   "source": [
    "# --- Dataset processing ---\n",
    "dataset_path = \"../dataset/Train_Alphabet\"\n",
    "data = []\n",
    "labels = []\n",
    "\n",
    "# Process folders A-Z\n",
    "classes = sorted(os.listdir(dataset_path))[:26]  # A-Z\n",
    "\n",
    "for label in tqdm(classes):\n",
    "    folder_path = os.path.join(dataset_path, label)\n",
    "    images = os.listdir(folder_path)[:300]  # Limit per class for speed\n",
    "\n",
    "    for img_name in images:\n",
    "        img_path = os.path.join(folder_path, img_name)\n",
    "        landmarks = extract_landmarks(img_path)\n",
    "\n",
    "        if landmarks:\n",
    "            data.append(landmarks)\n",
    "            labels.append(label)"
   ]
  },
  {
   "cell_type": "code",
   "execution_count": 6,
   "id": "a3115515-f742-402b-8ad0-65b374f1d196",
   "metadata": {},
   "outputs": [
    {
     "name": "stdout",
     "output_type": "stream",
     "text": [
      "Normalized landmark dataset saved as normalized_landmark_data.csv\n"
     ]
    }
   ],
   "source": [
    "# --- Save to CSV ---\n",
    "df = pd.DataFrame(data)\n",
    "df['label'] = labels\n",
    "df.to_csv(\"../dataset/normalized_landmark_data.csv\", index=False)\n",
    "print(\"Normalized landmark dataset saved as normalized_landmark_data.csv\")"
   ]
  },
  {
   "cell_type": "code",
   "execution_count": null,
   "id": "2acbefb3-238e-4986-b9d6-d44ff6f998ea",
   "metadata": {},
   "outputs": [],
   "source": []
  }
 ],
 "metadata": {
  "kernelspec": {
   "display_name": "Python (venv310)",
   "language": "python",
   "name": "venv310"
  },
  "language_info": {
   "codemirror_mode": {
    "name": "ipython",
    "version": 3
   },
   "file_extension": ".py",
   "mimetype": "text/x-python",
   "name": "python",
   "nbconvert_exporter": "python",
   "pygments_lexer": "ipython3",
   "version": "3.10.9"
  }
 },
 "nbformat": 4,
 "nbformat_minor": 5
}
